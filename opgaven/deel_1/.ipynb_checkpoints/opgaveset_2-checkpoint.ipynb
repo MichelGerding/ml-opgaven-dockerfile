{
 "cells": [
  {
   "cell_type": "code",
   "execution_count": null,
   "id": "ebc7b83d-4335-4dfd-afe1-bd5592b027ca",
   "metadata": {},
   "outputs": [],
   "source": [
    "import numpy as np\n",
    "import sys\n",
    "import pickle \n",
    "import numpy as np\n",
    "import matplotlib.pyplot as plt\n",
    "from mpl_toolkits.mplot3d import Axes3D\n",
    "from matplotlib import cm\n",
    "import matplotlib.mlab as mlab"
   ]
  },
  {
   "cell_type": "markdown",
   "id": "9e9eb190-ffd8-401c-873b-12bb900eb8c3",
   "metadata": {},
   "source": [
    "# Data inladen\n",
    "Onderstaande regels laden het pickle-bestand in waarin de data is opgeslagen.\n",
    "Dit betreft een vector van 97 regels en 2 kolommen: de eerste kolom bevat\n",
    "de populatie van steden, de tweede kolom bevat de winst van de vervoerder.\n",
    "Nadat de data is ingeladen, wordt er een aantal variabelen gezet die in de\n",
    "rest van het programma gebruikt kunnen worden:\n",
    "\n",
    "  m = aantal datapunten\n",
    "  X = de input-vector die gebruikt wordt voor de voorspellingen\n",
    "  y = de werkelijke uitkomsten\n",
    "  theta = de parameters van de voorspelling\n",
    "\n",
    "Het is de bedoeling om de optimale waarden voor theta te vinden."
   ]
  },
  {
   "cell_type": "code",
   "execution_count": null,
   "id": "4db1be24-07ee-4795-8cc8-3b545742200a",
   "metadata": {},
   "outputs": [],
   "source": [
    "with open('week1_data.pkl', 'rb') as f: \n",
    "    data = pickle.load(f)\n",
    "\n",
    "#Enen toevoegen als eerste kolom van X, zodat we op elke regel een\n",
    "#vector hebben waarvan de grootte correspondeert met theta.\n",
    "m,n = data.shape\n",
    "X = np.c_[np.ones(m), data[:, [0]]]\n",
    "y = data[:, [1]]\n",
    "theta = np.zeros( (2, 1) )"
   ]
  },
  {
   "cell_type": "markdown",
   "id": "8df51c57-8781-4a37-af7b-c997be06f81d",
   "metadata": {},
   "source": [
    "## Opgave 1: Draw_graph\n",
    "Maak een scatter-plot van de data die als parameter aan deze functie wordt meegegeven. Deze data\n",
    "is een twee-dimensionale matrix met in de eerste kolom de grootte van de steden, in de tweede\n",
    "kolom de winst van de vervoerder. Zet de eerste kolom op de x-as en de tweede kolom op de y-as.\n",
    "Je kunt hier gebruik maken van de mogelijkheid die Python biedt om direct een waarde toe te kennen\n",
    "aan meerdere variabelen, zoals in het onderstaande voorbeeld:\n",
    "\n",
    "    l = [ 3, 4 ]\n",
    "    x,y = l      ->  x = 3, y = 4\n",
    "\n",
    "Om deze constructie in dit specifieke geval te kunnen gebruiken, moet de data-matrix wel eerst\n",
    "roteren (waarom?).\n",
    "Maak gebruik van pytplot.scatter om dit voor elkaar te krijgen."
   ]
  },
  {
   "cell_type": "code",
   "execution_count": null,
   "id": "ffcfac83-9f90-4d73-80ed-d60893a0483c",
   "metadata": {},
   "outputs": [],
   "source": [
    "def draw_graph(data):\n",
    "    #YOUR CODE HERE\n",
    "    pass\n",
    "\n",
    "draw_graph(data)"
   ]
  },
  {
   "cell_type": "markdown",
   "id": "6cf81157-89a7-4081-ab2d-37f623382c4d",
   "metadata": {},
   "source": [
    "## Opgave 2: compute_cost\n",
    "Deze methode berekent de kosten van de huidige waarden van theta, dat wil zeggen de mate waarin de\n",
    "    voorspelling (gegeven de specifieke waarde van theta) correspondeert met de werkelijke waarde (die\n",
    "    is gegeven in y).\n",
    "\n",
    "    Elk datapunt in X wordt hierin vermenigvuldigd met theta (welke dimensies hebben X en dus theta?)\n",
    "    en het resultaat daarvan wordt vergeleken met de werkelijke waarde (dus met y). Het verschil tussen\n",
    "    deze twee waarden wordt gekwadrateerd en het totaal van al deze kwadraten wordt gedeeld door het\n",
    "    aantal data-punten om het gemiddelde te krijgen. Dit gemiddelde moet je retourneren (de variabele\n",
    "    J: een getal, kortom).\n",
    "\n",
    "    Een stappenplan zou het volgende kunnen zijn:\n",
    "\n",
    "       1. bepaal het aantal datapunten\n",
    "       2. bepaal de voorspelling (dus elk punt van X maal de huidige waarden van theta)\n",
    "       3. bereken het verschil tussen deze voorspelling en de werkelijke waarde\n",
    "       4. kwadrateer dit verschil\n",
    "       5. tal al deze kwadraten bij elkaar op en deel dit door twee keer het aantal datapunten\n"
   ]
  },
  {
   "cell_type": "code",
   "execution_count": null,
   "id": "5f5352ec-68fa-4b24-afb2-1fab7dc4e98a",
   "metadata": {},
   "outputs": [],
   "source": []
  },
  {
   "cell_type": "markdown",
   "id": "48b3d292-341d-42dc-bfa0-00657fb5ca0a",
   "metadata": {},
   "source": [
    "## Opgave 2: compute_cost\n",
    "Deze methode berekent de kosten van de huidige waarden van theta, dat wil zeggen de mate waarin de voorspelling (gegeven de specifieke waarde van theta) correspondeert met de werkelijke waarde (die is gegeven in y).\n",
    "\n",
    "Elk datapunt in X wordt hierin vermenigvuldigd met theta (welke dimensies hebben X en dus theta?) en het resultaat daarvan wordt vergeleken met de werkelijke waarde (dus met y). Het verschil tussen deze twee waarden wordt gekwadrateerd en het totaal van al deze kwadraten wordt gedeeld door het aantal data-punten om het gemiddelde te krijgen. Dit gemiddelde moet je retourneren (de variabele J: een getal, kortom).\n",
    "\n",
    "Een stappenplan zou het volgende kunnen zijn:\n",
    "\n",
    "   1. bepaal het aantal datapunten\n",
    "   2. bepaal de voorspelling (dus elk punt van X maal de huidige waarden van theta)\n",
    "   3. bereken het verschil tussen deze voorspelling en de werkelijke waarde\n",
    "   4. kwadrateer dit verschil\n",
    "   5. tal al deze kwadraten bij elkaar op en deel dit door twee keer het aantal datapunten\n"
   ]
  },
  {
   "cell_type": "code",
   "execution_count": null,
   "id": "69d99cdd-8faf-4815-bd13-3bf732dbf253",
   "metadata": {},
   "outputs": [],
   "source": [
    "def compute_cost(X, y, theta):\n",
    "    J = 0\n",
    "\n",
    "    # YOUR CODE HERE\n",
    "\n",
    "    return J\n",
    "\n",
    "print(f\"de gevnden waarde van J is {compute_cost(X, y, theta)}.\")\n",
    "print(\"Deze waarde zou rond de 32.07 moeten liggen\")"
   ]
  },
  {
   "cell_type": "markdown",
   "id": "516161a6-6edc-43b1-b5fa-badfdd199ac1",
   "metadata": {},
   "source": [
    "## Opgave 3a: gradient_descent\n",
    "In deze opgave wordt elke parameter van theta num_iter keer geüpdate om de optimale waarden\n",
    "voor deze parameters te vinden. Per iteratie moet je alle parameters van theta update.\n",
    "\n",
    "Elke parameter van theta wordt verminderd met de som van de fout van alle datapunten\n",
    "vermenigvuldigd met het datapunt zelf (zie Blackboard voor de formule die hierbij hoort).\n",
    "Deze som zelf wordt nog vermenigvuldigd met de 'learning rate' alpha.\n",
    "\n",
    "Een mogelijk stappenplan zou zijn:\n",
    "\n",
    "Voor elke iteratie van 1 tot num_iters:\n",
    "  1. bepaal de voorspelling voor het datapunt, gegeven de huidige waarde van theta\n",
    "  2. bepaal het verschil tussen deze voorspelling en de werkelijke waarde\n",
    "  3. vermenigvuldig dit verschil met de i-de waarde van X\n",
    "  4. update de i-de parameter van theta, namelijk door deze te verminderen met\n",
    "     alpha keer het gemiddelde van de som van de vermenigvuldiging uit 3\n"
   ]
  },
  {
   "cell_type": "code",
   "execution_count": null,
   "id": "8cc21776-ee5d-4506-ae33-d304a19b599e",
   "metadata": {},
   "outputs": [],
   "source": [
    "def gradient_descent(X, y, theta, alpha, num_iters):\n",
    "    m,n = X.shape\n",
    "    costs = []\n",
    "\n",
    "    # YOUR CODE HERE\n",
    "\n",
    "    # aan het eind van deze loop retourneren we de nieuwe waarde van theta\n",
    "    # (wat is de dimensionaliteit van theta op dit moment?)\n",
    "\n",
    "    return theta, costs"
   ]
  },
  {
   "cell_type": "code",
   "execution_count": null,
   "id": "ea729bd4-a166-4a7c-9c53-2c7dcac54ee3",
   "metadata": {},
   "outputs": [],
   "source": [
    "alpha = 0.01\n",
    "num_iters = 1500\n",
    "theta = np.zeros( (1,2) )\n",
    "theta, costs = gradient_descent(X, y, theta, alpha, num_iters) \n",
    "print (f\"De gevonden waarde voor theta={theta[0]}\")\n",
    "print (\"Deze waarde zou rond de [-3.63, 1.16] moeten liggen.\")\n",
    "print (f\"De kost met deze waarde van theta is {compute_cost(X, y, theta.T)}\")\n",
    "print (\"Die zou zo rond de 4.48 moeten liggen.\")"
   ]
  },
  {
   "cell_type": "markdown",
   "id": "2d8a4000-9c9e-4325-ad6c-45efd47eb661",
   "metadata": {},
   "source": [
    "### Opgave 3b: draw_costs"
   ]
  },
  {
   "cell_type": "code",
   "execution_count": null,
   "id": "c2291126-e45c-4bfa-bd46-984dabfde8f5",
   "metadata": {},
   "outputs": [],
   "source": [
    "def draw_costs(data): \n",
    "    # YOUR CODE HERE\n",
    "    pass\n",
    "draw_costs(costs)"
   ]
  },
  {
   "cell_type": "markdown",
   "id": "9a2d6f69-0839-4efb-a988-6829b640243a",
   "metadata": {},
   "source": [
    "## OPGAVE 4\n",
    "Deze methode tekent een contour plot voor verschillende waarden van theta_0 en theta_1.\n",
    "De infrastructuur en algemene opzet is al gegeven; het enige wat je hoeft te doen is \n",
    "de matrix J_vals vullen met waarden die je berekent aan de hand van de methode computeCost,\n",
    "die je hierboven hebt gemaakt.\n",
    "Je moet hiervoor door de waarden van t1 en t2 itereren, en deze waarden in een ndarray\n",
    "zetten. Deze ndarray kun je vervolgens meesturen aan de functie computeCost. Bedenk of je nog een\n",
    "transformatie moet toepassen of niet. Let op: je moet computeCost zelf *niet* aanpassen.\n"
   ]
  },
  {
   "cell_type": "code",
   "execution_count": null,
   "id": "297323a4-efbd-4f90-bae2-40f0f4e3031c",
   "metadata": {},
   "outputs": [],
   "source": [
    "def contour_plot(X, y):\n",
    "\n",
    "    fig = plt.figure()\n",
    "    ax = fig.add_subplot(projection='3d')\n",
    "    jet = plt.get_cmap('jet')\n",
    "\n",
    "    t1 = np.linspace(-10, 10, 100)\n",
    "    t2 = np.linspace(-1, 4, 100)\n",
    "    T1, T2 = np.meshgrid(t1, t2)\n",
    "\n",
    "    J_vals = np.zeros( (len(t2), len(t2)) )\n",
    "\n",
    "    #YOUR CODE HERE \n",
    "\n",
    "    surf = ax.plot_surface(T1, T2, J_vals, rstride=1, cstride=1, cmap=cm.coolwarm, linewidth=0, antialiased=False)\n",
    "\n",
    "    xLabel = ax.set_xlabel(r'$\\theta_0$', linespacing=3.2)\n",
    "    yLabel = ax.set_ylabel(r'$\\theta_1$', linespacing=3.1)\n",
    "    zLabel = ax.set_zlabel(r'$J(\\theta_0, \\theta_1)$', linespacing=3.4)\n",
    "\n",
    "    ax.dist = 10\n",
    "\n",
    "    plt.show()\n",
    "\n",
    "contour_plot(X, y)\n"
   ]
  },
  {
   "cell_type": "code",
   "execution_count": null,
   "id": "775216ff-83d6-4a02-84f5-6c81bbb1b2e0",
   "metadata": {},
   "outputs": [],
   "source": []
  }
 ],
 "metadata": {
  "kernelspec": {
   "display_name": "Python 3 (ipykernel)",
   "language": "python",
   "name": "python3"
  },
  "language_info": {
   "codemirror_mode": {
    "name": "ipython",
    "version": 3
   },
   "file_extension": ".py",
   "mimetype": "text/x-python",
   "name": "python",
   "nbconvert_exporter": "python",
   "pygments_lexer": "ipython3",
   "version": "3.11.0rc1"
  }
 },
 "nbformat": 4,
 "nbformat_minor": 5
}
