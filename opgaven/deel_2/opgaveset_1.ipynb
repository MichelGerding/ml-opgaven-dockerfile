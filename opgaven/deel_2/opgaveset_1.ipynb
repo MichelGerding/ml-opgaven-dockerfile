{
 "cells": [
  {
   "metadata": {},
   "cell_type": "markdown",
   "source": "In deze opgave maken we gebruik van de [Iris dataset](https://www.kaggle.com/datasets/uciml/iris). Run de volgende cel om de methode te importeren die deze dataset kan laden. Bestudeer [de documentatie](https://scikit-learn.org/stable/datasets/toy_dataset.html#iris-dataset) om te weten te komen wat er in deze dataset is opgeslagen en hoe je vervolgens de data daadwerkelijk laadt.",
   "id": "437d4a626bbc50c6"
  },
  {
   "cell_type": "code",
   "id": "initial_id",
   "metadata": {
    "collapsed": true,
    "ExecuteTime": {
     "end_time": "2024-10-04T08:04:49.449235Z",
     "start_time": "2024-10-04T08:04:49.443965Z"
    }
   },
   "source": [
    "# https://stackoverflow.com/a/49174340\n",
    "# Haal de onderstaande regels uit het commentaar als je SSL-errors krijgt:\n",
    "# import ssl\n",
    "# ssl._create_default_https_context = ssl._create_unverified_context\n",
    "from sklearn.datasets import load_iris\n",
    "import matplotlib.pyplot as plt\n",
    "import numpy as np"
   ],
   "outputs": [],
   "execution_count": 39
  }
 ],
 "metadata": {
  "kernelspec": {
   "display_name": "Python 3",
   "language": "python",
   "name": "python3"
  },
  "language_info": {
   "codemirror_mode": {
    "name": "ipython",
    "version": 2
   },
   "file_extension": ".py",
   "mimetype": "text/x-python",
   "name": "python",
   "nbconvert_exporter": "python",
   "pygments_lexer": "ipython2",
   "version": "2.7.6"
  }
 },
 "nbformat": 4,
 "nbformat_minor": 5
}
